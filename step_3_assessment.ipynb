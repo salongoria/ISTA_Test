{
 "cells": [
  {
   "cell_type": "code",
   "execution_count": 1,
   "id": "3506b161-2036-47b0-9c42-f52baab6a3de",
   "metadata": {},
   "outputs": [],
   "source": [
    "import pandas as pd"
   ]
  },
  {
   "cell_type": "code",
   "execution_count": 3,
   "id": "00a07ddb-0ff6-44a6-b99b-97a0d55a4a43",
   "metadata": {},
   "outputs": [
    {
     "name": "stdout",
     "output_type": "stream",
     "text": [
      "                     Facility Name  Facility ID State            Measure Name  \\\n",
      "0  SOUTHEAST HEALTH MEDICAL CENTER        10001    AL       READM-30-AMI-HRRP   \n",
      "1  SOUTHEAST HEALTH MEDICAL CENTER        10001    AL      READM-30-CABG-HRRP   \n",
      "2  SOUTHEAST HEALTH MEDICAL CENTER        10001    AL        READM-30-HF-HRRP   \n",
      "3  SOUTHEAST HEALTH MEDICAL CENTER        10001    AL  READM-30-HIP-KNEE-HRRP   \n",
      "4  SOUTHEAST HEALTH MEDICAL CENTER        10001    AL        READM-30-PN-HRRP   \n",
      "\n",
      "   Number of Discharges  Footnote  Excess Readmission Ratio  \\\n",
      "0                 296.0       NaN                    0.9483   \n",
      "1                 151.0       NaN                    0.9509   \n",
      "2                 681.0       NaN                    1.0597   \n",
      "3                   NaN       NaN                    0.9654   \n",
      "4                 490.0       NaN                    0.9715   \n",
      "\n",
      "   Predicted Readmission Rate  Expected Readmission Rate  \\\n",
      "0                     13.0146                    13.7235   \n",
      "1                      9.6899                    10.1898   \n",
      "2                     21.5645                    20.3495   \n",
      "3                      4.2680                     4.4211   \n",
      "4                     16.1137                    16.5863   \n",
      "\n",
      "  Number of Readmissions  Start Date    End Date  \n",
      "0                     36  07/01/2020  06/30/2023  \n",
      "1                     13  07/01/2020  06/30/2023  \n",
      "2                    151  07/01/2020  06/30/2023  \n",
      "3      Too Few to Report  07/01/2020  06/30/2023  \n",
      "4                     77  07/01/2020  06/30/2023  \n"
     ]
    }
   ],
   "source": [
    "df = pd.read_csv('FY_2025_Hospital_Readmissions_Reduction_Program_Hospital.csv')\n",
    "print(df.head())"
   ]
  },
  {
   "cell_type": "code",
   "execution_count": 4,
   "id": "242f183a-2a22-49c5-b9a3-c80c5730eb8b",
   "metadata": {},
   "outputs": [
    {
     "name": "stdout",
     "output_type": "stream",
     "text": [
      "Index(['Facility Name', 'Facility ID', 'State', 'Measure Name',\n",
      "       'Number of Discharges', 'Footnote', 'Excess Readmission Ratio',\n",
      "       'Predicted Readmission Rate', 'Expected Readmission Rate',\n",
      "       'Number of Readmissions', 'Start Date', 'End Date'],\n",
      "      dtype='object')\n"
     ]
    }
   ],
   "source": [
    "print(df.columns)"
   ]
  },
  {
   "cell_type": "code",
   "execution_count": 7,
   "id": "069f1e80-cd0a-4526-a2e4-f01e420a9f0c",
   "metadata": {},
   "outputs": [
    {
     "name": "stdout",
     "output_type": "stream",
     "text": [
      "Facility Name                  object\n",
      "Facility ID                     int64\n",
      "State                          object\n",
      "Measure Name                   object\n",
      "Number of Discharges          float64\n",
      "Footnote                      float64\n",
      "Excess Readmission Ratio      float64\n",
      "Predicted Readmission Rate    float64\n",
      "Expected Readmission Rate     float64\n",
      "Number of Readmissions         object\n",
      "Start Date                     object\n",
      "End Date                       object\n",
      "dtype: object\n"
     ]
    }
   ],
   "source": [
    "print(df.dtypes)"
   ]
  }
 ],
 "metadata": {
  "kernelspec": {
   "display_name": "Python 3 (ipykernel)",
   "language": "python",
   "name": "python3"
  },
  "language_info": {
   "codemirror_mode": {
    "name": "ipython",
    "version": 3
   },
   "file_extension": ".py",
   "mimetype": "text/x-python",
   "name": "python",
   "nbconvert_exporter": "python",
   "pygments_lexer": "ipython3",
   "version": "3.12.7"
  }
 },
 "nbformat": 4,
 "nbformat_minor": 5
}

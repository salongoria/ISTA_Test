{
 "cells": [
  {
   "cell_type": "code",
   "execution_count": null,
   "id": "c4c6ffbb-480d-4d63-8e16-aa34bd2c4632",
   "metadata": {},
   "outputs": [],
   "source": []
  }
 ],
 "metadata": {
  "kernelspec": {
   "display_name": "",
   "name": ""
  },
  "language_info": {
   "name": ""
  }
 },
 "nbformat": 4,
 "nbformat_minor": 5
}
